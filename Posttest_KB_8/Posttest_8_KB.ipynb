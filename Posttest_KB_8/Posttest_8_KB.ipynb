{
 "cells": [
  {
   "cell_type": "markdown",
   "id": "457193f3-bcab-4b56-99d1-353c9de90662",
   "metadata": {},
   "source": [
    "# Import Libray dan modul keras"
   ]
  },
  {
   "cell_type": "code",
   "execution_count": 38,
   "id": "c770490f-8c5a-4279-bc39-0c5c1dac9ed8",
   "metadata": {},
   "outputs": [],
   "source": [
    "import pandas as pd\n",
    "import matplotlib.pyplot as plt\n",
    "\n",
    "import tensorflow as tf\n",
    "from tensorflow.keras import Sequential\n",
    "from tensorflow.keras.layers import Dense\n",
    "from sklearn.preprocessing import OrdinalEncoder\n",
    "from sklearn.model_selection import train_test_split"
   ]
  },
  {
   "cell_type": "markdown",
   "id": "3653b7cc-b329-4434-9236-5606f5879320",
   "metadata": {},
   "source": [
    "# Read Dataset"
   ]
  },
  {
   "cell_type": "code",
   "execution_count": 8,
   "id": "fbf8de8e-51dd-49bf-9d23-a644cbc2ec8b",
   "metadata": {},
   "outputs": [
    {
     "data": {
      "text/html": [
       "<div>\n",
       "<style scoped>\n",
       "    .dataframe tbody tr th:only-of-type {\n",
       "        vertical-align: middle;\n",
       "    }\n",
       "\n",
       "    .dataframe tbody tr th {\n",
       "        vertical-align: top;\n",
       "    }\n",
       "\n",
       "    .dataframe thead th {\n",
       "        text-align: right;\n",
       "    }\n",
       "</style>\n",
       "<table border=\"1\" class=\"dataframe\">\n",
       "  <thead>\n",
       "    <tr style=\"text-align: right;\">\n",
       "      <th></th>\n",
       "      <th>long_hair</th>\n",
       "      <th>forehead_width_cm</th>\n",
       "      <th>forehead_height_cm</th>\n",
       "      <th>nose_wide</th>\n",
       "      <th>nose_long</th>\n",
       "      <th>lips_thin</th>\n",
       "      <th>distance_nose_to_lip_long</th>\n",
       "      <th>gender</th>\n",
       "    </tr>\n",
       "  </thead>\n",
       "  <tbody>\n",
       "    <tr>\n",
       "      <th>0</th>\n",
       "      <td>1</td>\n",
       "      <td>11.8</td>\n",
       "      <td>6.1</td>\n",
       "      <td>1</td>\n",
       "      <td>0</td>\n",
       "      <td>1</td>\n",
       "      <td>1</td>\n",
       "      <td>Male</td>\n",
       "    </tr>\n",
       "    <tr>\n",
       "      <th>1</th>\n",
       "      <td>0</td>\n",
       "      <td>14.0</td>\n",
       "      <td>5.4</td>\n",
       "      <td>0</td>\n",
       "      <td>0</td>\n",
       "      <td>1</td>\n",
       "      <td>0</td>\n",
       "      <td>Female</td>\n",
       "    </tr>\n",
       "    <tr>\n",
       "      <th>2</th>\n",
       "      <td>0</td>\n",
       "      <td>11.8</td>\n",
       "      <td>6.3</td>\n",
       "      <td>1</td>\n",
       "      <td>1</td>\n",
       "      <td>1</td>\n",
       "      <td>1</td>\n",
       "      <td>Male</td>\n",
       "    </tr>\n",
       "    <tr>\n",
       "      <th>3</th>\n",
       "      <td>0</td>\n",
       "      <td>14.4</td>\n",
       "      <td>6.1</td>\n",
       "      <td>0</td>\n",
       "      <td>1</td>\n",
       "      <td>1</td>\n",
       "      <td>1</td>\n",
       "      <td>Male</td>\n",
       "    </tr>\n",
       "    <tr>\n",
       "      <th>4</th>\n",
       "      <td>1</td>\n",
       "      <td>13.5</td>\n",
       "      <td>5.9</td>\n",
       "      <td>0</td>\n",
       "      <td>0</td>\n",
       "      <td>0</td>\n",
       "      <td>0</td>\n",
       "      <td>Female</td>\n",
       "    </tr>\n",
       "  </tbody>\n",
       "</table>\n",
       "</div>"
      ],
      "text/plain": [
       "   long_hair  forehead_width_cm  forehead_height_cm  nose_wide  nose_long  \\\n",
       "0          1               11.8                 6.1          1          0   \n",
       "1          0               14.0                 5.4          0          0   \n",
       "2          0               11.8                 6.3          1          1   \n",
       "3          0               14.4                 6.1          0          1   \n",
       "4          1               13.5                 5.9          0          0   \n",
       "\n",
       "   lips_thin  distance_nose_to_lip_long  gender  \n",
       "0          1                          1    Male  \n",
       "1          1                          0  Female  \n",
       "2          1                          1    Male  \n",
       "3          1                          1    Male  \n",
       "4          0                          0  Female  "
      ]
     },
     "execution_count": 8,
     "metadata": {},
     "output_type": "execute_result"
    }
   ],
   "source": [
    "df = pd.read_csv('gender_classification_v7.csv')\n",
    "df.head()"
   ]
  },
  {
   "cell_type": "markdown",
   "id": "572c7427-300e-442a-90a6-4b22efbdfa83",
   "metadata": {},
   "source": [
    "## Mengecek Nilai Null"
   ]
  },
  {
   "cell_type": "code",
   "execution_count": 9,
   "id": "39c34b9c-eda8-47c1-a2ec-79bf4beaa6ec",
   "metadata": {},
   "outputs": [
    {
     "data": {
      "text/plain": [
       "long_hair                    0\n",
       "forehead_width_cm            0\n",
       "forehead_height_cm           0\n",
       "nose_wide                    0\n",
       "nose_long                    0\n",
       "lips_thin                    0\n",
       "distance_nose_to_lip_long    0\n",
       "gender                       0\n",
       "dtype: int64"
      ]
     },
     "execution_count": 9,
     "metadata": {},
     "output_type": "execute_result"
    }
   ],
   "source": [
    "df.isnull().sum()"
   ]
  },
  {
   "cell_type": "markdown",
   "id": "bc349332-98aa-42f5-bbe1-b6c6292e9aea",
   "metadata": {},
   "source": [
    "## Mengecek tipe data"
   ]
  },
  {
   "cell_type": "code",
   "execution_count": 10,
   "id": "d50f01b3-49e6-4397-9162-4628f7335218",
   "metadata": {},
   "outputs": [
    {
     "data": {
      "text/plain": [
       "long_hair                      int64\n",
       "forehead_width_cm            float64\n",
       "forehead_height_cm           float64\n",
       "nose_wide                      int64\n",
       "nose_long                      int64\n",
       "lips_thin                      int64\n",
       "distance_nose_to_lip_long      int64\n",
       "gender                        object\n",
       "dtype: object"
      ]
     },
     "execution_count": 10,
     "metadata": {},
     "output_type": "execute_result"
    }
   ],
   "source": [
    "df.dtypes"
   ]
  },
  {
   "cell_type": "markdown",
   "id": "34aeb705-c463-4e4a-84e2-f6a1decb75df",
   "metadata": {},
   "source": [
    "## Encoding Data dengan Menggunakan Fungsi Ordinal Encoder"
   ]
  },
  {
   "cell_type": "code",
   "execution_count": 15,
   "id": "e92b6bbc-0a7e-4ecf-b640-8ebb062e5bcb",
   "metadata": {},
   "outputs": [],
   "source": [
    "encoder = OrdinalEncoder()\n",
    "df[\"nose_wide\"] = encoder.fit_transform(df[[\"nose_wide\"]])\n",
    "df[\"nose_long\"] = encoder.fit_transform(df[[\"nose_long\"]])\n",
    "df[\"lips_thin\"] = encoder.fit_transform(df[[\"lips_thin\"]])\n",
    "df[\"distance_nose_to_lip_long\"] = encoder.fit_transform(df[[\"distance_nose_to_lip_long\"]])"
   ]
  },
  {
   "cell_type": "markdown",
   "id": "a3785497-2347-4b54-a359-5b8a9644ab8c",
   "metadata": {},
   "source": [
    "## Data Split"
   ]
  },
  {
   "cell_type": "code",
   "execution_count": 18,
   "id": "f6376536-b428-48f7-be23-da9625e3b5a2",
   "metadata": {},
   "outputs": [
    {
     "name": "stdout",
     "output_type": "stream",
     "text": [
      "Dimensi x_Train:  (3500, 4)\n",
      "Dimensi x_Test:  (1501, 4)\n",
      "Dimensi y_Train:  (3500,)\n",
      "Dimensi y_Test:  (1501,)\n"
     ]
    }
   ],
   "source": [
    "X = df[['nose_wide', 'nose_long', 'lips_thin', 'distance_nose_to_lip_long']]\n",
    "Y = df['gender']\n",
    "\n",
    "X_train, X_test, Y_train, Y_test = train_test_split(X, Y, test_size=0.3)\n",
    "\n",
    "# Menampilkan Dimensi\n",
    "print(\"Dimensi x_Train: \", X_train.shape)\n",
    "print(\"Dimensi x_Test: \", X_test.shape)\n",
    "print(\"Dimensi y_Train: \", Y_train.shape)\n",
    "print(\"Dimensi y_Test: \", Y_test.shape)"
   ]
  },
  {
   "cell_type": "markdown",
   "id": "68f185cd-9668-4277-8c8e-7b40c1ae2b31",
   "metadata": {},
   "source": [
    "## Mengecek Nilai Unique"
   ]
  },
  {
   "cell_type": "code",
   "execution_count": 20,
   "id": "80cee83b-9b30-4f87-a8fd-1bf9d3b49b85",
   "metadata": {},
   "outputs": [
    {
     "data": {
      "text/plain": [
       "array([1., 0.])"
      ]
     },
     "execution_count": 20,
     "metadata": {},
     "output_type": "execute_result"
    }
   ],
   "source": [
    "df['gender'].unique()"
   ]
  },
  {
   "cell_type": "markdown",
   "id": "551accca-f706-4506-9e51-bd107dd07c85",
   "metadata": {},
   "source": [
    "## Encoding Label"
   ]
  },
  {
   "cell_type": "code",
   "execution_count": 115,
   "id": "159b72b7-9e33-4249-b554-e56ff3f4f593",
   "metadata": {},
   "outputs": [],
   "source": [
    "num_class = 20\n",
    "\n",
    "y_train = tf.keras.utils.to_categorical(Y_train, num_class)\n",
    "y_test = tf.keras.utils.to_categorical(Y_test, num_class)"
   ]
  },
  {
   "cell_type": "markdown",
   "id": "81d07911-a345-479a-9290-4d675661ff51",
   "metadata": {},
   "source": [
    "## Membuat DNN"
   ]
  },
  {
   "cell_type": "code",
   "execution_count": 119,
   "id": "ea9523cd-cc35-4a8a-9923-ef56adaccaaa",
   "metadata": {},
   "outputs": [
    {
     "name": "stdout",
     "output_type": "stream",
     "text": [
      "Model: \"sequential_9\"\n",
      "_________________________________________________________________\n",
      " Layer (type)                Output Shape              Param #   \n",
      "=================================================================\n",
      " dense_27 (Dense)            (None, 128)               640       \n",
      "                                                                 \n",
      " dense_28 (Dense)            (None, 64)                8256      \n",
      "                                                                 \n",
      " dense_29 (Dense)            (None, 20)                1300      \n",
      "                                                                 \n",
      "=================================================================\n",
      "Total params: 10,196\n",
      "Trainable params: 10,196\n",
      "Non-trainable params: 0\n",
      "_________________________________________________________________\n"
     ]
    }
   ],
   "source": [
    "model = tf.keras.Sequential(\n",
    "    [\n",
    "        tf.keras.layers.Dense(128, activation='relu', input_dim = 4),\n",
    "        tf.keras.layers.Dense(64, activation='relu'),\n",
    "        tf.keras.layers.Dense(20, activation='softmax')\n",
    "    ]\n",
    ")\n",
    "model.summary()"
   ]
  },
  {
   "cell_type": "markdown",
   "id": "e142f1dc-4beb-4b44-b028-5e7fd681875d",
   "metadata": {},
   "source": [
    "## Optional Model"
   ]
  },
  {
   "cell_type": "code",
   "execution_count": 120,
   "id": "ec58305a-c527-448a-aebe-347983795746",
   "metadata": {},
   "outputs": [],
   "source": [
    "model.compile(optimizer='adam', \n",
    "              loss='binary_crossentropy', \n",
    "              metrics=['accuracy'])"
   ]
  },
  {
   "cell_type": "markdown",
   "id": "b6eb5c1d-8e39-4c19-81a4-d71cce657123",
   "metadata": {},
   "source": [
    "## Training Model"
   ]
  },
  {
   "cell_type": "code",
   "execution_count": 121,
   "id": "13b74034-ea0f-4933-a7e4-65cab5172ee9",
   "metadata": {},
   "outputs": [
    {
     "name": "stdout",
     "output_type": "stream",
     "text": [
      "Epoch 1/10\n",
      "110/110 [==============================] - 1s 5ms/step - loss: 0.2656 - accuracy: 0.4623 - val_loss: 0.0601 - val_accuracy: 0.7948\n",
      "Epoch 2/10\n",
      "110/110 [==============================] - 0s 4ms/step - loss: 0.0313 - accuracy: 0.9289 - val_loss: 0.0145 - val_accuracy: 0.9547\n",
      "Epoch 3/10\n",
      "110/110 [==============================] - 0s 3ms/step - loss: 0.0114 - accuracy: 0.9586 - val_loss: 0.0098 - val_accuracy: 0.9547\n",
      "Epoch 4/10\n",
      "110/110 [==============================] - 0s 3ms/step - loss: 0.0094 - accuracy: 0.9577 - val_loss: 0.0088 - val_accuracy: 0.9580\n",
      "Epoch 5/10\n",
      "110/110 [==============================] - 0s 3ms/step - loss: 0.0090 - accuracy: 0.9583 - val_loss: 0.0093 - val_accuracy: 0.9574\n",
      "Epoch 6/10\n",
      "110/110 [==============================] - 0s 3ms/step - loss: 0.0090 - accuracy: 0.9554 - val_loss: 0.0086 - val_accuracy: 0.9580\n",
      "Epoch 7/10\n",
      "110/110 [==============================] - 0s 3ms/step - loss: 0.0087 - accuracy: 0.9597 - val_loss: 0.0086 - val_accuracy: 0.9587\n",
      "Epoch 8/10\n",
      "110/110 [==============================] - 0s 3ms/step - loss: 0.0088 - accuracy: 0.9589 - val_loss: 0.0087 - val_accuracy: 0.9587\n",
      "Epoch 9/10\n",
      "110/110 [==============================] - 0s 3ms/step - loss: 0.0087 - accuracy: 0.9591 - val_loss: 0.0089 - val_accuracy: 0.9547\n",
      "Epoch 10/10\n",
      "110/110 [==============================] - 0s 4ms/step - loss: 0.0087 - accuracy: 0.9574 - val_loss: 0.0087 - val_accuracy: 0.9587\n"
     ]
    }
   ],
   "source": [
    "outuput = model.fit(X_train, y_train, epochs = 10, validation_data = (X_test, y_test))"
   ]
  },
  {
   "cell_type": "markdown",
   "id": "9a9b47bf-2509-4fc4-b0bd-75dfa51ff226",
   "metadata": {},
   "source": [
    "## Evaluasi Model"
   ]
  },
  {
   "cell_type": "code",
   "execution_count": 123,
   "id": "49bf45db-7131-46ea-b48e-027c2ce8bdf5",
   "metadata": {},
   "outputs": [
    {
     "name": "stdout",
     "output_type": "stream",
     "text": [
      "Akurasi : 0.9574285745620728\n",
      "Loss :  0.008728877641260624\n",
      "Akurasi validasi : 0.9586942195892334\n",
      "Validasi Loss : 0.008743923157453537\n"
     ]
    }
   ],
   "source": [
    "print(\"Akurasi :\", outuput.history[\"accuracy\"][-1])\n",
    "print(\"Loss : \", outuput.history['loss'][-1])\n",
    "print(\"Akurasi validasi :\", outuput.history[\"val_accuracy\"][-1])\n",
    "print(\"Validasi Loss :\",outuput.history['val_loss'][-1])"
   ]
  },
  {
   "cell_type": "markdown",
   "id": "821a07ab-203b-4afe-ab3d-a253cd0f372a",
   "metadata": {},
   "source": [
    "## Visualisasi Akurasi"
   ]
  },
  {
   "cell_type": "code",
   "execution_count": 124,
   "id": "9bbf61e3-834d-4658-b8f6-e4eec5b1b852",
   "metadata": {},
   "outputs": [
    {
     "data": {
      "image/png": "[encoded data removed]",
      "text/plain": [
       "<Figure size 1500x1000 with 2 Axes>"
      ]
     },
     "metadata": {},
     "output_type": "display_data"
    }
   ],
   "source": [
    "plt.figure(figsize=(15,10))\n",
    "\n",
    "epochs_run = [i+1 for i in range(10)]\n",
    "\n",
    "# Akurasi\n",
    "plt.subplot(1,2,1)\n",
    "plt.plot(epochs_run, outuput.history['accuracy'], label='Training')\n",
    "plt.plot(epochs_run, outuput.history['val_accuracy'], label='Testing')\n",
    "plt.title(\"Akurasi\")\n",
    "plt.legend()\n",
    "\n",
    "# Loss\n",
    "plt.subplot(1,2,2)\n",
    "plt.plot(epochs_run, outuput.history['loss'], label='Training')\n",
    "plt.plot(epochs_run, outuput.history['val_loss'], label='Testing')\n",
    "plt.title(\"Loss\")\n",
    "plt.legend()\n",
    "\n",
    "plt.show()"
   ]
  },
  {
   "cell_type": "code",
   "execution_count": null,
   "id": "1a749d0c-1613-4526-a116-4ea54f0b6d69",
   "metadata": {},
   "outputs": [],
   "source": []
  },
  {
   "cell_type": "code",
   "execution_count": null,
   "id": "2c6c4d93-385a-4ec0-a03f-9b1d1f59d5fa",
   "metadata": {},
   "outputs": [],
   "source": []
  }
 ],
 "metadata": {
  "kernelspec": {
   "display_name": "Python 3 (ipykernel)",
   "language": "python",
   "name": "python3"
  },
  "language_info": {
   "codemirror_mode": {
    "name": "ipython",
    "version": 3
   },
   "file_extension": ".py",
   "mimetype": "text/x-python",
   "name": "python",
   "nbconvert_exporter": "python",
   "pygments_lexer": "ipython3",
   "version": "3.10.7"
  }
 },
 "nbformat": 4,
 "nbformat_minor": 5
}
