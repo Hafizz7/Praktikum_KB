{
 "cells": [
  {
   "cell_type": "markdown",
   "id": "fbe93d4c-af44-4b00-ba93-9e5f4610767f",
   "metadata": {},
   "source": [
    "# Import libray tensforflow"
   ]
  },
  {
   "cell_type": "code",
   "execution_count": 3,
   "id": "cd2482a1-2cdd-40bf-bed7-02ecd649095c",
   "metadata": {},
   "outputs": [],
   "source": [
    "import tensorflow as tf"
   ]
  },
  {
   "cell_type": "markdown",
   "id": "ac73fcd3-f079-4794-9729-b6de5517d467",
   "metadata": {},
   "source": [
    "## Buatlah sebuah tensor dengan shape(5,5) dengan nilai random yang disimpan dalam variable random_tensor"
   ]
  },
  {
   "cell_type": "code",
   "execution_count": 6,
   "id": "ac552b96-1005-4a8a-bef2-ad224c2e0c00",
   "metadata": {},
   "outputs": [
    {
     "data": {
      "text/plain": [
       "<tf.Tensor: shape=(5, 5), dtype=float32, numpy=\n",
       "array([[ 0.7695022 , -0.7580773 ,  2.4435413 ,  0.2593875 ,  0.33514294],\n",
       "       [ 1.2734538 ,  0.8510116 ,  1.4060466 ,  0.584049  , -0.48842156],\n",
       "       [ 0.2638065 ,  0.717292  ,  2.1402295 , -1.8738679 ,  0.32165954],\n",
       "       [-0.5954158 ,  0.5621245 ,  0.24011481,  1.5529006 , -0.6044808 ],\n",
       "       [-0.89263195, -1.304264  ,  1.1460057 ,  1.7472647 ,  0.33028686]],\n",
       "      dtype=float32)>"
      ]
     },
     "execution_count": 6,
     "metadata": {},
     "output_type": "execute_result"
    }
   ],
   "source": [
    "random_tensor = tf.random.normal([5,5])\n",
    "random_tensor"
   ]
  },
  {
   "cell_type": "markdown",
   "id": "947b7029-b4a1-407b-ba79-88ed68b95be1",
   "metadata": {},
   "source": [
    "## Buatlah sebuah tensor dengan shape(5,5) dari sebuah list dengan nilai bilangan prima dalam variable prime_tensor"
   ]
  },
  {
   "cell_type": "code",
   "execution_count": 8,
   "id": "775e0f90-1334-4f27-a9ac-033cc426307f",
   "metadata": {},
   "outputs": [
    {
     "data": {
      "text/plain": [
       "<tf.Tensor: shape=(5, 5), dtype=float32, numpy=\n",
       "array([[ 4.,  8.,  9., 12., 13.],\n",
       "       [14., 15., 16., 19., 21.],\n",
       "       [34., 35., 38., 40., 42.],\n",
       "       [49., 54., 55., 56., 71.],\n",
       "       [76., 79., 85., 86., 88.]], dtype=float32)>"
      ]
     },
     "execution_count": 8,
     "metadata": {},
     "output_type": "execute_result"
    }
   ],
   "source": [
    "list = [[4, 8, 9, 12, 13],\n",
    "       [14, 15, 16, 19, 21],\n",
    "       [34, 35, 38, 40, 42],\n",
    "       [ 49, 54, 55, 56, 71],\n",
    "       [ 76, 79, 85, 86, 88]]\n",
    "prime_tensor = tf.convert_to_tensor(list, dtype=tf.float32)\n",
    "prime_tensor"
   ]
  },
  {
   "cell_type": "markdown",
   "id": "a0ca48cf-a6fb-42e4-9b7e-7fa98f9a52b4",
   "metadata": {},
   "source": [
    "## Tampilkan dimensi dari kedua variable tersebut"
   ]
  },
  {
   "cell_type": "code",
   "execution_count": 10,
   "id": "2fe53ddb-35a7-4f3c-9906-8b339e65d13c",
   "metadata": {},
   "outputs": [
    {
     "name": "stdout",
     "output_type": "stream",
     "text": [
      "Dimensi variabel random tensor :  (5, 5)\n",
      "Dimensi variabel random tensor :  (5, 5)\n"
     ]
    }
   ],
   "source": [
    "print (\"Dimensi variabel random tensor : \", random_tensor.shape)\n",
    "print (\"Dimensi variabel random tensor : \", prime_tensor.shape)"
   ]
  },
  {
   "cell_type": "markdown",
   "id": "5dc9096f-3701-4514-979e-a75de95f7c6e",
   "metadata": {},
   "source": [
    "## Tampilkan hasil dari perhitungan aritmetika 2 variable tersebut (Gunakan minimal 5 operator)"
   ]
  },
  {
   "cell_type": "markdown",
   "id": "2b492913-70e1-4341-8e4e-95970d50733d",
   "metadata": {},
   "source": [
    "## Perjumlahan"
   ]
  },
  {
   "cell_type": "code",
   "execution_count": 11,
   "id": "878b5214-1538-4b0c-b14e-9f333ceebedf",
   "metadata": {},
   "outputs": [
    {
     "data": {
      "text/plain": [
       "<tf.Tensor: shape=(5, 5), dtype=float32, numpy=\n",
       "array([[ 4.769502,  7.241923, 11.443542, 12.259388, 13.335143],\n",
       "       [15.273454, 15.851011, 17.406046, 19.58405 , 20.511578],\n",
       "       [34.263805, 35.717293, 40.14023 , 38.126133, 42.32166 ],\n",
       "       [48.404583, 54.562126, 55.240116, 57.552902, 70.395515],\n",
       "       [75.10737 , 77.69574 , 86.146   , 87.74726 , 88.330284]],\n",
       "      dtype=float32)>"
      ]
     },
     "execution_count": 11,
     "metadata": {},
     "output_type": "execute_result"
    }
   ],
   "source": [
    "tf.add(random_tensor,prime_tensor)"
   ]
  },
  {
   "cell_type": "markdown",
   "id": "1f5dc8bf-3975-4724-80c1-c7ee906d09dd",
   "metadata": {},
   "source": [
    "## pengurangan"
   ]
  },
  {
   "cell_type": "code",
   "execution_count": 14,
   "id": "d73c0486-9a8c-4663-bf5b-c1c29d03f6b6",
   "metadata": {},
   "outputs": [
    {
     "data": {
      "text/plain": [
       "<tf.Tensor: shape=(5, 5), dtype=float32, numpy=\n",
       "array([[ -3.2304978,  -8.758078 ,  -6.5564585, -11.740612 , -12.664857 ],\n",
       "       [-12.726546 , -14.148989 , -14.593953 , -18.41595  , -21.488422 ],\n",
       "       [-33.736195 , -34.282707 , -35.85977  , -41.873867 , -41.67834  ],\n",
       "       [-49.595417 , -53.437874 , -54.759884 , -54.447098 , -71.604485 ],\n",
       "       [-76.89263  , -80.30426  , -83.854    , -84.25274  , -87.669716 ]],\n",
       "      dtype=float32)>"
      ]
     },
     "execution_count": 14,
     "metadata": {},
     "output_type": "execute_result"
    }
   ],
   "source": [
    "tf.subtract(random_tensor,prime_tensor)"
   ]
  },
  {
   "cell_type": "markdown",
   "id": "764ac7cd-ad7d-4f6d-af0f-9c49b0c1a7fb",
   "metadata": {},
   "source": [
    "## Perkalian"
   ]
  },
  {
   "cell_type": "code",
   "execution_count": 15,
   "id": "78aece9d-2330-42b5-97cd-7e554cf6c95f",
   "metadata": {},
   "outputs": [
    {
     "data": {
      "text/plain": [
       "<tf.Tensor: shape=(5, 5), dtype=float32, numpy=\n",
       "array([[   3.078009 ,   -6.0646186,   21.99187  ,    3.11265  ,\n",
       "           4.3568583],\n",
       "       [  17.828354 ,   12.765174 ,   22.496746 ,   11.0969305,\n",
       "         -10.256853 ],\n",
       "       [   8.96942  ,   25.10522  ,   81.32872  ,  -74.95471  ,\n",
       "          13.509701 ],\n",
       "       [ -29.175373 ,   30.354723 ,   13.206314 ,   86.96243  ,\n",
       "         -42.918137 ],\n",
       "       [ -67.84003  , -103.03685  ,   97.41049  ,  150.26477  ,\n",
       "          29.065243 ]], dtype=float32)>"
      ]
     },
     "execution_count": 15,
     "metadata": {},
     "output_type": "execute_result"
    }
   ],
   "source": [
    "tf.multiply(random_tensor,prime_tensor)"
   ]
  },
  {
   "cell_type": "markdown",
   "id": "ec6221ef-3d33-49d2-922f-c66828462424",
   "metadata": {},
   "source": [
    "## Pembagian"
   ]
  },
  {
   "cell_type": "code",
   "execution_count": 16,
   "id": "8ab65c80-afe4-4db4-81a5-406dee36fda1",
   "metadata": {},
   "outputs": [
    {
     "data": {
      "text/plain": [
       "<tf.Tensor: shape=(5, 5), dtype=float32, numpy=\n",
       "array([[ 0.19237556, -0.09475967,  0.27150458,  0.02161562,  0.02578023],\n",
       "       [ 0.09096099,  0.0567341 ,  0.08787791,  0.03073942, -0.02325817],\n",
       "       [ 0.00775901,  0.02049406,  0.05632183, -0.0468467 ,  0.00765856],\n",
       "       [-0.01215134,  0.01040971,  0.00436572,  0.02773037, -0.00851381],\n",
       "       [-0.01174516, -0.01650967,  0.01348242,  0.02031703,  0.00375326]],\n",
       "      dtype=float32)>"
      ]
     },
     "execution_count": 16,
     "metadata": {},
     "output_type": "execute_result"
    }
   ],
   "source": [
    "tf.divide(random_tensor,prime_tensor)"
   ]
  },
  {
   "cell_type": "markdown",
   "id": "052e5e9d-23d4-4071-b368-101677587af1",
   "metadata": {},
   "source": [
    "## Pangkat"
   ]
  },
  {
   "cell_type": "code",
   "execution_count": 17,
   "id": "e84ab8f4-f3d3-447a-9e29-8367f3dd7308",
   "metadata": {},
   "outputs": [
    {
     "data": {
      "text/plain": [
       "<tf.Tensor: shape=(5, 5), dtype=float32, numpy=\n",
       "array([[ 3.5062230e-01,  1.0907069e-01,  3.1058262e+03,  9.2765902e-08,\n",
       "         6.7296270e-07],\n",
       "       [ 2.9496119e+01,  8.8926665e-02,  2.3334343e+02,  3.6520458e-05,\n",
       "        -2.9153543e-07],\n",
       "       [ 2.1072025e-20,  8.8993802e-06,  3.6098807e+12,  8.1200480e+10,\n",
       "         2.0447963e-21],\n",
       "       [-9.2511632e-12,  3.0971011e-14,  8.3761015e-35,  5.0587603e+10,\n",
       "        -3.0071732e-16],\n",
       "       [ 1.7828074e-04, -1.2997916e+09,  1.0736870e+05,  6.9638493e+20,\n",
       "         0.0000000e+00]], dtype=float32)>"
      ]
     },
     "execution_count": 17,
     "metadata": {},
     "output_type": "execute_result"
    }
   ],
   "source": [
    "tf.pow(random_tensor,prime_tensor)"
   ]
  },
  {
   "cell_type": "markdown",
   "id": "8c09c208-e77b-4d3f-9391-58c4eeeb455f",
   "metadata": {},
   "source": [
    "## Tampilkan nilai maksimal dan minimal dari variable random_tensor"
   ]
  },
  {
   "cell_type": "code",
   "execution_count": 19,
   "id": "26057e08-d46b-42eb-85c1-36a72fa3431e",
   "metadata": {},
   "outputs": [
    {
     "name": "stdout",
     "output_type": "stream",
     "text": [
      "Nilai maksima dari variabel random tensor:  tf.Tensor([1 1 0 4 0], shape=(5,), dtype=int64)\n"
     ]
    }
   ],
   "source": [
    "print(\"Nilai maksima dari variabel random tensor: \", tf.argmax(random_tensor))"
   ]
  },
  {
   "cell_type": "code",
   "execution_count": 22,
   "id": "2c2860e9-4db4-4c90-8237-93e52acb52c4",
   "metadata": {},
   "outputs": [
    {
     "name": "stdout",
     "output_type": "stream",
     "text": [
      "Nilai minimal dari variabel random tensor:  tf.Tensor([4 4 3 2 3], shape=(5,), dtype=int64)\n"
     ]
    }
   ],
   "source": [
    "print(\"Nilai minimal dari variabel random tensor: \", tf.argmin(random_tensor))"
   ]
  },
  {
   "cell_type": "markdown",
   "id": "f6af6e1b-4c6f-4cde-8553-bf9ed4a2e07f",
   "metadata": {},
   "source": [
    "## Tampilkan hasil dari penggabungan variable random_tensor dengan prime_tensor (concatenation)"
   ]
  },
  {
   "cell_type": "code",
   "execution_count": 24,
   "id": "15669939-b107-495a-bf71-c44b3659ef10",
   "metadata": {},
   "outputs": [
    {
     "name": "stdout",
     "output_type": "stream",
     "text": [
      "Penggabungan berdasarkan Kolom\n"
     ]
    },
    {
     "data": {
      "text/plain": [
       "<tf.Tensor: shape=(10, 5), dtype=float32, numpy=\n",
       "array([[ 0.7695022 , -0.7580773 ,  2.4435413 ,  0.2593875 ,  0.33514294],\n",
       "       [ 1.2734538 ,  0.8510116 ,  1.4060466 ,  0.584049  , -0.48842156],\n",
       "       [ 0.2638065 ,  0.717292  ,  2.1402295 , -1.8738679 ,  0.32165954],\n",
       "       [-0.5954158 ,  0.5621245 ,  0.24011481,  1.5529006 , -0.6044808 ],\n",
       "       [-0.89263195, -1.304264  ,  1.1460057 ,  1.7472647 ,  0.33028686],\n",
       "       [ 4.        ,  8.        ,  9.        , 12.        , 13.        ],\n",
       "       [14.        , 15.        , 16.        , 19.        , 21.        ],\n",
       "       [34.        , 35.        , 38.        , 40.        , 42.        ],\n",
       "       [49.        , 54.        , 55.        , 56.        , 71.        ],\n",
       "       [76.        , 79.        , 85.        , 86.        , 88.        ]],\n",
       "      dtype=float32)>"
      ]
     },
     "execution_count": 24,
     "metadata": {},
     "output_type": "execute_result"
    }
   ],
   "source": [
    "print(\"Penggabungan berdasarkan Kolom\")\n",
    "concatenation_col = tf.concat([random_tensor,prime_tensor],axis=0)\n",
    "concatenation_col"
   ]
  },
  {
   "cell_type": "code",
   "execution_count": 25,
   "id": "cd01180d-3c59-42a6-8b72-be2c8d076e3f",
   "metadata": {},
   "outputs": [
    {
     "name": "stdout",
     "output_type": "stream",
     "text": [
      "Penggabungan berdasarkan baris\n"
     ]
    },
    {
     "data": {
      "text/plain": [
       "<tf.Tensor: shape=(5, 10), dtype=float32, numpy=\n",
       "array([[ 0.7695022 , -0.7580773 ,  2.4435413 ,  0.2593875 ,  0.33514294,\n",
       "         4.        ,  8.        ,  9.        , 12.        , 13.        ],\n",
       "       [ 1.2734538 ,  0.8510116 ,  1.4060466 ,  0.584049  , -0.48842156,\n",
       "        14.        , 15.        , 16.        , 19.        , 21.        ],\n",
       "       [ 0.2638065 ,  0.717292  ,  2.1402295 , -1.8738679 ,  0.32165954,\n",
       "        34.        , 35.        , 38.        , 40.        , 42.        ],\n",
       "       [-0.5954158 ,  0.5621245 ,  0.24011481,  1.5529006 , -0.6044808 ,\n",
       "        49.        , 54.        , 55.        , 56.        , 71.        ],\n",
       "       [-0.89263195, -1.304264  ,  1.1460057 ,  1.7472647 ,  0.33028686,\n",
       "        76.        , 79.        , 85.        , 86.        , 88.        ]],\n",
       "      dtype=float32)>"
      ]
     },
     "execution_count": 25,
     "metadata": {},
     "output_type": "execute_result"
    }
   ],
   "source": [
    "print(\"Penggabungan berdasarkan baris\")\n",
    "concatenation_row = tf.concat([random_tensor,prime_tensor],axis=1)\n",
    "concatenation_row"
   ]
  },
  {
   "cell_type": "markdown",
   "id": "3aecc8a4-8ab9-494b-94ea-dbab4d5cf940",
   "metadata": {},
   "source": [
    "## Tampilkan hasil sorting dari kedua variable di atas. (descending)"
   ]
  },
  {
   "cell_type": "code",
   "execution_count": 26,
   "id": "8d90d6f9-46aa-4146-938f-99edfa373ff9",
   "metadata": {},
   "outputs": [
    {
     "name": "stdout",
     "output_type": "stream",
     "text": [
      "Hasil random tensor secara descending\n",
      "tf.Tensor(\n",
      "[[ 2.4435413   0.7695022   0.33514294  0.2593875  -0.7580773 ]\n",
      " [ 1.4060466   1.2734538   0.8510116   0.584049   -0.48842156]\n",
      " [ 2.1402295   0.717292    0.32165954  0.2638065  -1.8738679 ]\n",
      " [ 1.5529006   0.5621245   0.24011481 -0.5954158  -0.6044808 ]\n",
      " [ 1.7472647   1.1460057   0.33028686 -0.89263195 -1.304264  ]], shape=(5, 5), dtype=float32)\n",
      "\n",
      "Hasil prime tensor secara descending\n",
      "tf.Tensor(\n",
      "[[13. 12.  9.  8.  4.]\n",
      " [21. 19. 16. 15. 14.]\n",
      " [42. 40. 38. 35. 34.]\n",
      " [71. 56. 55. 54. 49.]\n",
      " [88. 86. 85. 79. 76.]], shape=(5, 5), dtype=float32)\n"
     ]
    }
   ],
   "source": [
    "print(\"Hasil random tensor secara descending\")\n",
    "print(tf.sort(random_tensor,direction=\"DESCENDING\"))\n",
    "print(\"\")\n",
    "print(\"Hasil prime tensor secara descending\")\n",
    "print(tf.sort(prime_tensor,direction=\"DESCENDING\"))"
   ]
  }
 ],
 "metadata": {
  "kernelspec": {
   "display_name": "Python 3 (ipykernel)",
   "language": "python",
   "name": "python3"
  },
  "language_info": {
   "codemirror_mode": {
    "name": "ipython",
    "version": 3
   },
   "file_extension": ".py",
   "mimetype": "text/x-python",
   "name": "python",
   "nbconvert_exporter": "python",
   "pygments_lexer": "ipython3",
   "version": "3.10.7"
  }
 },
 "nbformat": 4,
 "nbformat_minor": 5
}
